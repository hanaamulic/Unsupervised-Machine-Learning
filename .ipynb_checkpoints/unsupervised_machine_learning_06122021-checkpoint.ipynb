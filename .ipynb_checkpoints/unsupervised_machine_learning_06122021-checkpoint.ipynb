{
 "cells": [
  {
   "cell_type": "code",
   "execution_count": 1,
   "id": "37825924-6fdd-499e-a742-71ceb49a3d34",
   "metadata": {},
   "outputs": [],
   "source": [
    "import pandas as pd\n",
    "import matplotlib.pyplot as plt"
   ]
  },
  {
   "cell_type": "code",
   "execution_count": 2,
   "id": "6124ebfd-129e-4361-b26a-e134ee810fd8",
   "metadata": {},
   "outputs": [
    {
     "data": {
      "text/html": [
       "<div>\n",
       "<style scoped>\n",
       "    .dataframe tbody tr th:only-of-type {\n",
       "        vertical-align: middle;\n",
       "    }\n",
       "\n",
       "    .dataframe tbody tr th {\n",
       "        vertical-align: top;\n",
       "    }\n",
       "\n",
       "    .dataframe thead th {\n",
       "        text-align: right;\n",
       "    }\n",
       "</style>\n",
       "<table border=\"1\" class=\"dataframe\">\n",
       "  <thead>\n",
       "    <tr style=\"text-align: right;\">\n",
       "      <th></th>\n",
       "      <th>broccoli</th>\n",
       "      <th>brussels_sprouts</th>\n",
       "      <th>hamburger</th>\n",
       "      <th>oysters (raw)</th>\n",
       "      <th>onion (raw)</th>\n",
       "      <th>peas</th>\n",
       "      <th>olives</th>\n",
       "      <th>blue_cheese</th>\n",
       "      <th>whisky</th>\n",
       "      <th>age</th>\n",
       "      <th>favorite_color</th>\n",
       "    </tr>\n",
       "    <tr>\n",
       "      <th>student</th>\n",
       "      <th></th>\n",
       "      <th></th>\n",
       "      <th></th>\n",
       "      <th></th>\n",
       "      <th></th>\n",
       "      <th></th>\n",
       "      <th></th>\n",
       "      <th></th>\n",
       "      <th></th>\n",
       "      <th></th>\n",
       "      <th></th>\n",
       "    </tr>\n",
       "  </thead>\n",
       "  <tbody>\n",
       "    <tr>\n",
       "      <th>Akbar</th>\n",
       "      <td>7.0</td>\n",
       "      <td>0.0</td>\n",
       "      <td>5</td>\n",
       "      <td>2</td>\n",
       "      <td>3.0</td>\n",
       "      <td>4.0</td>\n",
       "      <td>8.0</td>\n",
       "      <td>8.0</td>\n",
       "      <td>7.0</td>\n",
       "      <td>32.0</td>\n",
       "      <td>Blue</td>\n",
       "    </tr>\n",
       "    <tr>\n",
       "      <th>Andreas</th>\n",
       "      <td>7.0</td>\n",
       "      <td>7.0</td>\n",
       "      <td>7</td>\n",
       "      <td>2</td>\n",
       "      <td>6.0</td>\n",
       "      <td>2.0</td>\n",
       "      <td>3.0</td>\n",
       "      <td>5.0</td>\n",
       "      <td>6.0</td>\n",
       "      <td>34.0</td>\n",
       "      <td>Blue</td>\n",
       "    </tr>\n",
       "    <tr>\n",
       "      <th>Dónal</th>\n",
       "      <td>8.0</td>\n",
       "      <td>6.0</td>\n",
       "      <td>8</td>\n",
       "      <td>5</td>\n",
       "      <td>1.0</td>\n",
       "      <td>5.0</td>\n",
       "      <td>8.0</td>\n",
       "      <td>10.0</td>\n",
       "      <td>10.0</td>\n",
       "      <td>35.0</td>\n",
       "      <td>Brown</td>\n",
       "    </tr>\n",
       "    <tr>\n",
       "      <th>Hana</th>\n",
       "      <td>5.0</td>\n",
       "      <td>8.0</td>\n",
       "      <td>8</td>\n",
       "      <td>8</td>\n",
       "      <td>5.0</td>\n",
       "      <td>7.0</td>\n",
       "      <td>9.0</td>\n",
       "      <td>8.0</td>\n",
       "      <td>7.0</td>\n",
       "      <td>31.0</td>\n",
       "      <td>Green</td>\n",
       "    </tr>\n",
       "    <tr>\n",
       "      <th>Konstantinos</th>\n",
       "      <td>5.0</td>\n",
       "      <td>7.0</td>\n",
       "      <td>1</td>\n",
       "      <td>0</td>\n",
       "      <td>7.0</td>\n",
       "      <td>8.0</td>\n",
       "      <td>10.0</td>\n",
       "      <td>2.0</td>\n",
       "      <td>7.0</td>\n",
       "      <td>28.0</td>\n",
       "      <td>Blue</td>\n",
       "    </tr>\n",
       "    <tr>\n",
       "      <th>Kristina</th>\n",
       "      <td>9.0</td>\n",
       "      <td>8.0</td>\n",
       "      <td>5</td>\n",
       "      <td>0</td>\n",
       "      <td>7.0</td>\n",
       "      <td>7.0</td>\n",
       "      <td>9.0</td>\n",
       "      <td>4.0</td>\n",
       "      <td>7.0</td>\n",
       "      <td>36.0</td>\n",
       "      <td>red</td>\n",
       "    </tr>\n",
       "    <tr>\n",
       "      <th>Sabrina</th>\n",
       "      <td>6.0</td>\n",
       "      <td>8.0</td>\n",
       "      <td>10</td>\n",
       "      <td>0</td>\n",
       "      <td>8.0</td>\n",
       "      <td>8.0</td>\n",
       "      <td>10.0</td>\n",
       "      <td>0.0</td>\n",
       "      <td>2.0</td>\n",
       "      <td>30.0</td>\n",
       "      <td>black</td>\n",
       "    </tr>\n",
       "    <tr>\n",
       "      <th>Sandrine</th>\n",
       "      <td>10.0</td>\n",
       "      <td>2.0</td>\n",
       "      <td>8</td>\n",
       "      <td>0</td>\n",
       "      <td>5.0</td>\n",
       "      <td>8.0</td>\n",
       "      <td>10.0</td>\n",
       "      <td>10.0</td>\n",
       "      <td>0.0</td>\n",
       "      <td>41.0</td>\n",
       "      <td>Blue</td>\n",
       "    </tr>\n",
       "    <tr>\n",
       "      <th>Sevgi</th>\n",
       "      <td>6.0</td>\n",
       "      <td>2.0</td>\n",
       "      <td>9</td>\n",
       "      <td>0</td>\n",
       "      <td>5.0</td>\n",
       "      <td>7.0</td>\n",
       "      <td>10.0</td>\n",
       "      <td>0.0</td>\n",
       "      <td>0.0</td>\n",
       "      <td>38.0</td>\n",
       "      <td>Green</td>\n",
       "    </tr>\n",
       "    <tr>\n",
       "      <th>Rias</th>\n",
       "      <td>8.0</td>\n",
       "      <td>6.0</td>\n",
       "      <td>8</td>\n",
       "      <td>5</td>\n",
       "      <td>0.0</td>\n",
       "      <td>6.0</td>\n",
       "      <td>8.0</td>\n",
       "      <td>8.0</td>\n",
       "      <td>10.0</td>\n",
       "      <td>33.0</td>\n",
       "      <td>blue</td>\n",
       "    </tr>\n",
       "    <tr>\n",
       "      <th>Ben</th>\n",
       "      <td>8.0</td>\n",
       "      <td>8.0</td>\n",
       "      <td>5</td>\n",
       "      <td>4</td>\n",
       "      <td>5.0</td>\n",
       "      <td>9.0</td>\n",
       "      <td>10.0</td>\n",
       "      <td>9.0</td>\n",
       "      <td>10.0</td>\n",
       "      <td>35.0</td>\n",
       "      <td>Yellow</td>\n",
       "    </tr>\n",
       "    <tr>\n",
       "      <th>Joan</th>\n",
       "      <td>6.0</td>\n",
       "      <td>0.0</td>\n",
       "      <td>8</td>\n",
       "      <td>0</td>\n",
       "      <td>7.0</td>\n",
       "      <td>2.0</td>\n",
       "      <td>8.0</td>\n",
       "      <td>9.0</td>\n",
       "      <td>6.0</td>\n",
       "      <td>88.0</td>\n",
       "      <td>green</td>\n",
       "    </tr>\n",
       "  </tbody>\n",
       "</table>\n",
       "</div>"
      ],
      "text/plain": [
       "              broccoli  brussels_sprouts hamburger oysters (raw)  \\\n",
       "student                                                            \n",
       "Akbar              7.0               0.0         5             2   \n",
       "Andreas            7.0               7.0         7             2   \n",
       "Dónal              8.0               6.0         8             5   \n",
       "Hana               5.0               8.0         8             8   \n",
       "Konstantinos       5.0               7.0         1             0   \n",
       "Kristina           9.0               8.0         5             0   \n",
       "Sabrina            6.0               8.0        10             0   \n",
       "Sandrine          10.0               2.0         8             0   \n",
       "Sevgi              6.0               2.0         9             0   \n",
       "Rias               8.0               6.0         8             5   \n",
       "Ben                8.0               8.0         5             4   \n",
       "Joan               6.0               0.0         8             0   \n",
       "\n",
       "               onion (raw)  peas  olives  blue_cheese  whisky   age  \\\n",
       "student                                                               \n",
       "Akbar                  3.0   4.0     8.0          8.0     7.0  32.0   \n",
       "Andreas                6.0   2.0     3.0          5.0     6.0  34.0   \n",
       "Dónal                  1.0   5.0     8.0         10.0    10.0  35.0   \n",
       "Hana                   5.0   7.0     9.0          8.0     7.0  31.0   \n",
       "Konstantinos           7.0   8.0    10.0          2.0     7.0  28.0   \n",
       "Kristina               7.0   7.0     9.0          4.0     7.0  36.0   \n",
       "Sabrina                8.0   8.0    10.0          0.0     2.0  30.0   \n",
       "Sandrine               5.0   8.0    10.0         10.0     0.0  41.0   \n",
       "Sevgi                  5.0   7.0    10.0          0.0     0.0  38.0   \n",
       "Rias                   0.0   6.0     8.0          8.0    10.0  33.0   \n",
       "Ben                    5.0   9.0    10.0          9.0    10.0  35.0   \n",
       "Joan                   7.0   2.0     8.0          9.0     6.0  88.0   \n",
       "\n",
       "             favorite_color  \n",
       "student                      \n",
       "Akbar                  Blue  \n",
       "Andreas                Blue  \n",
       "Dónal                 Brown  \n",
       "Hana                  Green  \n",
       "Konstantinos           Blue  \n",
       "Kristina                red  \n",
       "Sabrina               black  \n",
       "Sandrine               Blue  \n",
       "Sevgi                 Green  \n",
       "Rias                   blue  \n",
       "Ben                  Yellow  \n",
       "Joan                  green  "
      ]
     },
     "execution_count": 2,
     "metadata": {},
     "output_type": "execute_result"
    }
   ],
   "source": [
    "df = pd.read_csv('../data/food_ratings - DS003.csv', index_col='student')\n",
    "df = df.iloc[:12,:]\n",
    "df"
   ]
  },
  {
   "cell_type": "code",
   "execution_count": 3,
   "id": "afc0ca26-4927-4af4-b835-13cd1fbe3894",
   "metadata": {},
   "outputs": [],
   "source": [
    "df.drop(['age', 'favorite_color'], axis=1, inplace=True)"
   ]
  },
  {
   "cell_type": "code",
   "execution_count": 4,
   "id": "29083258-c493-419f-a77f-81cd4caf0a82",
   "metadata": {},
   "outputs": [
    {
     "data": {
      "text/html": [
       "<div>\n",
       "<style scoped>\n",
       "    .dataframe tbody tr th:only-of-type {\n",
       "        vertical-align: middle;\n",
       "    }\n",
       "\n",
       "    .dataframe tbody tr th {\n",
       "        vertical-align: top;\n",
       "    }\n",
       "\n",
       "    .dataframe thead th {\n",
       "        text-align: right;\n",
       "    }\n",
       "</style>\n",
       "<table border=\"1\" class=\"dataframe\">\n",
       "  <thead>\n",
       "    <tr style=\"text-align: right;\">\n",
       "      <th></th>\n",
       "      <th>broccoli</th>\n",
       "      <th>brussels_sprouts</th>\n",
       "      <th>hamburger</th>\n",
       "      <th>oysters (raw)</th>\n",
       "      <th>onion (raw)</th>\n",
       "      <th>peas</th>\n",
       "      <th>olives</th>\n",
       "      <th>blue_cheese</th>\n",
       "      <th>whisky</th>\n",
       "    </tr>\n",
       "    <tr>\n",
       "      <th>student</th>\n",
       "      <th></th>\n",
       "      <th></th>\n",
       "      <th></th>\n",
       "      <th></th>\n",
       "      <th></th>\n",
       "      <th></th>\n",
       "      <th></th>\n",
       "      <th></th>\n",
       "      <th></th>\n",
       "    </tr>\n",
       "  </thead>\n",
       "  <tbody>\n",
       "    <tr>\n",
       "      <th>Akbar</th>\n",
       "      <td>7.0</td>\n",
       "      <td>0.0</td>\n",
       "      <td>5</td>\n",
       "      <td>2</td>\n",
       "      <td>3.0</td>\n",
       "      <td>4.0</td>\n",
       "      <td>8.0</td>\n",
       "      <td>8.0</td>\n",
       "      <td>7.0</td>\n",
       "    </tr>\n",
       "    <tr>\n",
       "      <th>Andreas</th>\n",
       "      <td>7.0</td>\n",
       "      <td>7.0</td>\n",
       "      <td>7</td>\n",
       "      <td>2</td>\n",
       "      <td>6.0</td>\n",
       "      <td>2.0</td>\n",
       "      <td>3.0</td>\n",
       "      <td>5.0</td>\n",
       "      <td>6.0</td>\n",
       "    </tr>\n",
       "    <tr>\n",
       "      <th>Dónal</th>\n",
       "      <td>8.0</td>\n",
       "      <td>6.0</td>\n",
       "      <td>8</td>\n",
       "      <td>5</td>\n",
       "      <td>1.0</td>\n",
       "      <td>5.0</td>\n",
       "      <td>8.0</td>\n",
       "      <td>10.0</td>\n",
       "      <td>10.0</td>\n",
       "    </tr>\n",
       "    <tr>\n",
       "      <th>Hana</th>\n",
       "      <td>5.0</td>\n",
       "      <td>8.0</td>\n",
       "      <td>8</td>\n",
       "      <td>8</td>\n",
       "      <td>5.0</td>\n",
       "      <td>7.0</td>\n",
       "      <td>9.0</td>\n",
       "      <td>8.0</td>\n",
       "      <td>7.0</td>\n",
       "    </tr>\n",
       "    <tr>\n",
       "      <th>Konstantinos</th>\n",
       "      <td>5.0</td>\n",
       "      <td>7.0</td>\n",
       "      <td>1</td>\n",
       "      <td>0</td>\n",
       "      <td>7.0</td>\n",
       "      <td>8.0</td>\n",
       "      <td>10.0</td>\n",
       "      <td>2.0</td>\n",
       "      <td>7.0</td>\n",
       "    </tr>\n",
       "    <tr>\n",
       "      <th>Kristina</th>\n",
       "      <td>9.0</td>\n",
       "      <td>8.0</td>\n",
       "      <td>5</td>\n",
       "      <td>0</td>\n",
       "      <td>7.0</td>\n",
       "      <td>7.0</td>\n",
       "      <td>9.0</td>\n",
       "      <td>4.0</td>\n",
       "      <td>7.0</td>\n",
       "    </tr>\n",
       "    <tr>\n",
       "      <th>Sabrina</th>\n",
       "      <td>6.0</td>\n",
       "      <td>8.0</td>\n",
       "      <td>10</td>\n",
       "      <td>0</td>\n",
       "      <td>8.0</td>\n",
       "      <td>8.0</td>\n",
       "      <td>10.0</td>\n",
       "      <td>0.0</td>\n",
       "      <td>2.0</td>\n",
       "    </tr>\n",
       "    <tr>\n",
       "      <th>Sandrine</th>\n",
       "      <td>10.0</td>\n",
       "      <td>2.0</td>\n",
       "      <td>8</td>\n",
       "      <td>0</td>\n",
       "      <td>5.0</td>\n",
       "      <td>8.0</td>\n",
       "      <td>10.0</td>\n",
       "      <td>10.0</td>\n",
       "      <td>0.0</td>\n",
       "    </tr>\n",
       "    <tr>\n",
       "      <th>Sevgi</th>\n",
       "      <td>6.0</td>\n",
       "      <td>2.0</td>\n",
       "      <td>9</td>\n",
       "      <td>0</td>\n",
       "      <td>5.0</td>\n",
       "      <td>7.0</td>\n",
       "      <td>10.0</td>\n",
       "      <td>0.0</td>\n",
       "      <td>0.0</td>\n",
       "    </tr>\n",
       "    <tr>\n",
       "      <th>Rias</th>\n",
       "      <td>8.0</td>\n",
       "      <td>6.0</td>\n",
       "      <td>8</td>\n",
       "      <td>5</td>\n",
       "      <td>0.0</td>\n",
       "      <td>6.0</td>\n",
       "      <td>8.0</td>\n",
       "      <td>8.0</td>\n",
       "      <td>10.0</td>\n",
       "    </tr>\n",
       "    <tr>\n",
       "      <th>Ben</th>\n",
       "      <td>8.0</td>\n",
       "      <td>8.0</td>\n",
       "      <td>5</td>\n",
       "      <td>4</td>\n",
       "      <td>5.0</td>\n",
       "      <td>9.0</td>\n",
       "      <td>10.0</td>\n",
       "      <td>9.0</td>\n",
       "      <td>10.0</td>\n",
       "    </tr>\n",
       "    <tr>\n",
       "      <th>Joan</th>\n",
       "      <td>6.0</td>\n",
       "      <td>0.0</td>\n",
       "      <td>8</td>\n",
       "      <td>0</td>\n",
       "      <td>7.0</td>\n",
       "      <td>2.0</td>\n",
       "      <td>8.0</td>\n",
       "      <td>9.0</td>\n",
       "      <td>6.0</td>\n",
       "    </tr>\n",
       "  </tbody>\n",
       "</table>\n",
       "</div>"
      ],
      "text/plain": [
       "              broccoli  brussels_sprouts hamburger oysters (raw)  \\\n",
       "student                                                            \n",
       "Akbar              7.0               0.0         5             2   \n",
       "Andreas            7.0               7.0         7             2   \n",
       "Dónal              8.0               6.0         8             5   \n",
       "Hana               5.0               8.0         8             8   \n",
       "Konstantinos       5.0               7.0         1             0   \n",
       "Kristina           9.0               8.0         5             0   \n",
       "Sabrina            6.0               8.0        10             0   \n",
       "Sandrine          10.0               2.0         8             0   \n",
       "Sevgi              6.0               2.0         9             0   \n",
       "Rias               8.0               6.0         8             5   \n",
       "Ben                8.0               8.0         5             4   \n",
       "Joan               6.0               0.0         8             0   \n",
       "\n",
       "               onion (raw)  peas  olives  blue_cheese  whisky  \n",
       "student                                                        \n",
       "Akbar                  3.0   4.0     8.0          8.0     7.0  \n",
       "Andreas                6.0   2.0     3.0          5.0     6.0  \n",
       "Dónal                  1.0   5.0     8.0         10.0    10.0  \n",
       "Hana                   5.0   7.0     9.0          8.0     7.0  \n",
       "Konstantinos           7.0   8.0    10.0          2.0     7.0  \n",
       "Kristina               7.0   7.0     9.0          4.0     7.0  \n",
       "Sabrina                8.0   8.0    10.0          0.0     2.0  \n",
       "Sandrine               5.0   8.0    10.0         10.0     0.0  \n",
       "Sevgi                  5.0   7.0    10.0          0.0     0.0  \n",
       "Rias                   0.0   6.0     8.0          8.0    10.0  \n",
       "Ben                    5.0   9.0    10.0          9.0    10.0  \n",
       "Joan                   7.0   2.0     8.0          9.0     6.0  "
      ]
     },
     "execution_count": 4,
     "metadata": {},
     "output_type": "execute_result"
    }
   ],
   "source": [
    "df"
   ]
  },
  {
   "cell_type": "code",
   "execution_count": 5,
   "id": "0eb749b5-03d4-4294-9234-307c596c9950",
   "metadata": {},
   "outputs": [
    {
     "data": {
      "text/plain": [
       "broccoli            float64\n",
       "brussels_sprouts    float64\n",
       "hamburger            object\n",
       "oysters (raw)        object\n",
       " onion (raw)        float64\n",
       "peas                float64\n",
       "olives              float64\n",
       "blue_cheese         float64\n",
       "whisky              float64\n",
       "dtype: object"
      ]
     },
     "execution_count": 5,
     "metadata": {},
     "output_type": "execute_result"
    }
   ],
   "source": [
    "df.dtypes"
   ]
  },
  {
   "cell_type": "code",
   "execution_count": null,
   "id": "74797c7f-c38a-4c8d-9516-5ee7ef4f2c60",
   "metadata": {},
   "outputs": [],
   "source": []
  },
  {
   "cell_type": "code",
   "execution_count": 6,
   "id": "ab01af59-fa4f-40f9-bd05-d4f242048610",
   "metadata": {},
   "outputs": [],
   "source": [
    "df['hamburger'] = pd.to_numeric(df['hamburger'])"
   ]
  },
  {
   "cell_type": "code",
   "execution_count": 7,
   "id": "541c5545-a969-417a-89c0-ae4bbfec062a",
   "metadata": {},
   "outputs": [],
   "source": [
    "df['oysters (raw)'] = pd.to_numeric(df['oysters (raw)'])"
   ]
  },
  {
   "cell_type": "code",
   "execution_count": 8,
   "id": "b177bb6d-0eca-4dad-b795-e8b41e7678be",
   "metadata": {},
   "outputs": [
    {
     "data": {
      "text/html": [
       "<div>\n",
       "<style scoped>\n",
       "    .dataframe tbody tr th:only-of-type {\n",
       "        vertical-align: middle;\n",
       "    }\n",
       "\n",
       "    .dataframe tbody tr th {\n",
       "        vertical-align: top;\n",
       "    }\n",
       "\n",
       "    .dataframe thead th {\n",
       "        text-align: right;\n",
       "    }\n",
       "</style>\n",
       "<table border=\"1\" class=\"dataframe\">\n",
       "  <thead>\n",
       "    <tr style=\"text-align: right;\">\n",
       "      <th></th>\n",
       "      <th>broccoli</th>\n",
       "      <th>brussels_sprouts</th>\n",
       "    </tr>\n",
       "    <tr>\n",
       "      <th>student</th>\n",
       "      <th></th>\n",
       "      <th></th>\n",
       "    </tr>\n",
       "  </thead>\n",
       "  <tbody>\n",
       "    <tr>\n",
       "      <th>Akbar</th>\n",
       "      <td>7.0</td>\n",
       "      <td>0.0</td>\n",
       "    </tr>\n",
       "    <tr>\n",
       "      <th>Andreas</th>\n",
       "      <td>7.0</td>\n",
       "      <td>7.0</td>\n",
       "    </tr>\n",
       "  </tbody>\n",
       "</table>\n",
       "</div>"
      ],
      "text/plain": [
       "         broccoli  brussels_sprouts\n",
       "student                            \n",
       "Akbar         7.0               0.0\n",
       "Andreas       7.0               7.0"
      ]
     },
     "execution_count": 8,
     "metadata": {},
     "output_type": "execute_result"
    }
   ],
   "source": [
    "sample = df.iloc[0:2,0:2]\n",
    "sample"
   ]
  },
  {
   "cell_type": "code",
   "execution_count": null,
   "id": "db405b9f-5d9c-4612-9e25-b41e6b468db5",
   "metadata": {},
   "outputs": [],
   "source": []
  },
  {
   "cell_type": "code",
   "execution_count": 9,
   "id": "f386a20d-2301-4833-b1cb-bc3c18d2f461",
   "metadata": {},
   "outputs": [
    {
     "data": {
      "image/png": "[encoded data removed]",
      "text/plain": [
       "<Figure size 432x288 with 1 Axes>"
      ]
     },
     "metadata": {
      "needs_background": "light"
     },
     "output_type": "display_data"
    }
   ],
   "source": [
    "# plot the manhattan distance between two points\n",
    "# plt.scatter(x, y, s = size(of dots on the chart))\n",
    "plt.scatter(sample['broccoli'], sample['brussels_sprouts'], s=200)\n",
    "\n",
    "# labelling the chart\n",
    "# plt.xlim(-1, 11)\n",
    "# plt.ylim(-1, 11)\n",
    "plt.title('Manhattan distance from broccoli rating to brussel sprouts rating')\n",
    "plt.xlabel('Broccoli rating')\n",
    "plt.ylabel('Brussels sprouts rating')\n",
    "plt.show()"
   ]
  },
  {
   "cell_type": "code",
   "execution_count": 10,
   "id": "bdd7e793-9118-446c-998c-f1cb5a398030",
   "metadata": {},
   "outputs": [
    {
     "data": {
      "text/html": [
       "<div>\n",
       "<style scoped>\n",
       "    .dataframe tbody tr th:only-of-type {\n",
       "        vertical-align: middle;\n",
       "    }\n",
       "\n",
       "    .dataframe tbody tr th {\n",
       "        vertical-align: top;\n",
       "    }\n",
       "\n",
       "    .dataframe thead th {\n",
       "        text-align: right;\n",
       "    }\n",
       "</style>\n",
       "<table border=\"1\" class=\"dataframe\">\n",
       "  <thead>\n",
       "    <tr style=\"text-align: right;\">\n",
       "      <th></th>\n",
       "      <th>broccoli</th>\n",
       "      <th>brussels_sprouts</th>\n",
       "      <th>hamburger</th>\n",
       "    </tr>\n",
       "    <tr>\n",
       "      <th>student</th>\n",
       "      <th></th>\n",
       "      <th></th>\n",
       "      <th></th>\n",
       "    </tr>\n",
       "  </thead>\n",
       "  <tbody>\n",
       "    <tr>\n",
       "      <th>Akbar</th>\n",
       "      <td>7.0</td>\n",
       "      <td>0.0</td>\n",
       "      <td>5</td>\n",
       "    </tr>\n",
       "    <tr>\n",
       "      <th>Andreas</th>\n",
       "      <td>7.0</td>\n",
       "      <td>7.0</td>\n",
       "      <td>7</td>\n",
       "    </tr>\n",
       "  </tbody>\n",
       "</table>\n",
       "</div>"
      ],
      "text/plain": [
       "         broccoli  brussels_sprouts  hamburger\n",
       "student                                       \n",
       "Akbar         7.0               0.0          5\n",
       "Andreas       7.0               7.0          7"
      ]
     },
     "execution_count": 10,
     "metadata": {},
     "output_type": "execute_result"
    }
   ],
   "source": [
    "sample = df.iloc[0:2,0:3]\n",
    "sample"
   ]
  },
  {
   "cell_type": "code",
   "execution_count": 11,
   "id": "cad396e3-15c8-46f5-8834-41ce7184cc48",
   "metadata": {},
   "outputs": [
    {
     "data": {
      "text/plain": [
       "0.0"
      ]
     },
     "execution_count": 11,
     "metadata": {},
     "output_type": "execute_result"
    }
   ],
   "source": [
    "# distance user 1 and user 2 for broccoli\n",
    "md_m1_users1to2 = abs(sample.iloc[0,0] - sample.iloc[1,0])\n",
    "md_m1_users1to2"
   ]
  },
  {
   "cell_type": "code",
   "execution_count": 12,
   "id": "f5eb1e0b-3855-417e-b7a1-1312cea97d68",
   "metadata": {},
   "outputs": [
    {
     "data": {
      "text/plain": [
       "7.0"
      ]
     },
     "execution_count": 12,
     "metadata": {},
     "output_type": "execute_result"
    }
   ],
   "source": [
    "# distance user 1 and user 2 for brussel_sprouts\n",
    "md_m2_users1to2 = abs(sample.iloc[0,1] - sample.iloc[1,1])\n",
    "md_m2_users1to2"
   ]
  },
  {
   "cell_type": "code",
   "execution_count": 13,
   "id": "ed5ebf90-0573-4713-9eb6-1ea775c5f05a",
   "metadata": {},
   "outputs": [
    {
     "data": {
      "text/plain": [
       "2"
      ]
     },
     "execution_count": 13,
     "metadata": {},
     "output_type": "execute_result"
    }
   ],
   "source": [
    "# distance user 1 and user 2 for hamburguer\n",
    "md_m3_users1to2 = abs(sample.iloc[0,2] - sample.iloc[1,2])\n",
    "md_m3_users1to2"
   ]
  },
  {
   "cell_type": "code",
   "execution_count": 14,
   "id": "f54d8e19-d5f9-40cc-b421-643afb298888",
   "metadata": {},
   "outputs": [
    {
     "data": {
      "text/plain": [
       "9.0"
      ]
     },
     "execution_count": 14,
     "metadata": {},
     "output_type": "execute_result"
    }
   ],
   "source": [
    "# and now to calculate the distance between both users, it will be\n",
    "md_users1to2 = md_m1_users1to2 + md_m2_users1to2 + md_m3_users1to2\n",
    "md_users1to2"
   ]
  },
  {
   "cell_type": "code",
   "execution_count": 15,
   "id": "4137225c-7a0b-46b5-a0ec-813b69572970",
   "metadata": {},
   "outputs": [
    {
     "data": {
      "image/png": "[encoded data removed]",
      "text/plain": [
       "<Figure size 432x288 with 1 Axes>"
      ]
     },
     "metadata": {
      "needs_background": "light"
     },
     "output_type": "display_data"
    }
   ],
   "source": [
    "# how can we visualize that?\n",
    "from mpl_toolkits.mplot3d import Axes3D\n",
    "\n",
    "fig = plt.figure()\n",
    "ax = fig.add_subplot(111, projection='3d')\n",
    "plt.title('Andreas and Akbar rating positions')\n",
    "ax.scatter(xs=sample['broccoli'], ys=sample['brussels_sprouts'], zs=sample['hamburger'])\n",
    "plt.show()"
   ]
  },
  {
   "cell_type": "code",
   "execution_count": 18,
   "id": "477e93f0-4013-44dc-81de-1501e96c4241",
   "metadata": {},
   "outputs": [
    {
     "data": {
      "image/png": "[encoded data removed]",
      "text/plain": [
       "<Figure size 432x288 with 1 Axes>"
      ]
     },
     "metadata": {
      "needs_background": "light"
     },
     "output_type": "display_data"
    }
   ],
   "source": [
    "# 3d visualisation of all participant for Broccoli, Brussel Sprouts, and Hamburgers\n",
    "fig = plt.figure()\n",
    "ax = fig.add_subplot(111, projection='3d')\n",
    "plt.title('Broccoli, brussel_sprouts and hamburger ratings')\n",
    "ax.scatter(xs=df['broccoli'], ys=df['brussels_sprouts'], zs=df['hamburger'])\n",
    "plt.show()"
   ]
  },
  {
   "cell_type": "code",
   "execution_count": null,
   "id": "5b19bc42-a1f6-4219-bf7d-4bbe8bfca5ca",
   "metadata": {},
   "outputs": [],
   "source": []
  }
 ],
 "metadata": {
  "kernelspec": {
   "display_name": "Python 3",
   "language": "python",
   "name": "python3"
  },
  "language_info": {
   "codemirror_mode": {
    "name": "ipython",
    "version": 3
   },
   "file_extension": ".py",
   "mimetype": "text/x-python",
   "name": "python",
   "nbconvert_exporter": "python",
   "pygments_lexer": "ipython3",
   "version": "3.8.8"
  }
 },
 "nbformat": 4,
 "nbformat_minor": 5
}
