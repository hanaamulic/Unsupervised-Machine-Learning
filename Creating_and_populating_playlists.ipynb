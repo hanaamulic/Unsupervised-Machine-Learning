{
 "cells": [
  {
   "cell_type": "code",
   "execution_count": 136,
   "id": "b990ff56-be89-4ae3-a40a-de50f4f4a074",
   "metadata": {},
   "outputs": [],
   "source": [
    "import spotipy\n",
    "import pandas as pd\n",
    "from spotipy.oauth2 import SpotifyOAuth\n",
    "import json\n",
    "import keys"
   ]
  },
  {
   "cell_type": "code",
   "execution_count": 130,
   "id": "5d2d9af2-a7f7-4bb0-8dc4-9d36bee9e2f9",
   "metadata": {
    "tags": []
   },
   "outputs": [],
   "source": [
    "songs = pd.read_csv(\"data/df_audio_features.csv\")"
   ]
  },
  {
   "cell_type": "code",
   "execution_count": 131,
   "id": "eb7ef860-54d1-4089-b3be-c4b31da955b6",
   "metadata": {},
   "outputs": [],
   "source": [
    "scope = 'playlist-modify-public'\n",
    "username = keys.username\n",
    "redirectUri = 'http://localhost:8888/callback'\n",
    "\n",
    "token = SpotifyOAuth(scope=scope,username=username,client_id=keys.client_id, client_secret=keys.client_secret ,redirect_uri='http://localhost:7000/callback',)\n",
    "spotifyObject = spotipy.Spotify(auth_manager = token)"
   ]
  },
  {
   "cell_type": "code",
   "execution_count": 132,
   "id": "a11e8bc1-0d52-4c6a-a55e-17d3a35f5b1d",
   "metadata": {},
   "outputs": [],
   "source": [
    "playlist_name = 'playlist_project_10_songs'\n",
    "playlist_description= ''"
   ]
  },
  {
   "cell_type": "code",
   "execution_count": 133,
   "id": "c29e955b-ff51-4c9f-a93b-99d7a7a6af47",
   "metadata": {
    "tags": []
   },
   "outputs": [],
   "source": [
    "playlist_id = spotifyObject.user_playlist_create(user=username,name=playlist_name,public=True,description=playlist_description)['id']"
   ]
  },
  {
   "cell_type": "code",
   "execution_count": 134,
   "id": "994bf236-75b0-4157-92ce-e15c8dbe0ba9",
   "metadata": {},
   "outputs": [],
   "source": [
    "list_of_songs = []\n",
    "for index, song in song_titles.iterrows():\n",
    "    result = spotifyObject.search(q=f\"{song.song_name}\",type='track',limit=1)\n",
    "    try:\n",
    "        list_of_songs.append(result['tracks']['items'][0]['uri'])\n",
    "    except:\n",
    "        continue"
   ]
  },
  {
   "cell_type": "code",
   "execution_count": 135,
   "id": "84707c41-e24b-49c0-8906-edc839d8dc20",
   "metadata": {},
   "outputs": [
    {
     "data": {
      "text/plain": [
       "{'snapshot_id': 'Miw0ZDBiOTFkNjViNjQyZjY5ZjBlN2IyNDNmMjg4OTJhMjUwNThiNDdl'}"
      ]
     },
     "execution_count": 135,
     "metadata": {},
     "output_type": "execute_result"
    }
   ],
   "source": [
    "spotifyObject.user_playlist_add_tracks(user=username,playlist_id=playlist_id,tracks=list_of_songs)"
   ]
  }
 ],
 "metadata": {
  "kernelspec": {
   "display_name": "Python 3",
   "language": "python",
   "name": "python3"
  },
  "language_info": {
   "codemirror_mode": {
    "name": "ipython",
    "version": 3
   },
   "file_extension": ".py",
   "mimetype": "text/x-python",
   "name": "python",
   "nbconvert_exporter": "python",
   "pygments_lexer": "ipython3",
   "version": "3.8.8"
  }
 },
 "nbformat": 4,
 "nbformat_minor": 5
}
